{
 "cells": [
  {
   "attachments": {},
   "cell_type": "markdown",
   "metadata": {},
   "source": [
    "# <b> GROUP ASSIGNMENT: Factors affecting apartment rental costs in Hanoi (3-2023) </b>"
   ]
  },
  {
   "attachments": {},
   "cell_type": "markdown",
   "metadata": {},
   "source": [
    "## Source of __[data](https://drive.google.com/file/d/1fZrhmIyD9Faipkeg1CZHtS1pv8YxQ4na/view?usp=sharing)__ :\n",
    "First 200 results of apartments for rent in Hanoi listed on __[batdongsan.com.vn](batdongsan.com.vn)__ on March 2023. Gathered by Nguyen Ngoc Khoa, saved as .csv <br>\n",
    "<ul>\n",
    "<li>BR : Number of bedrooms</li>\n",
    "<li>WC: Number of washrooms</li>\n",
    "<li>WCdummy: 0 - apartments with 1 washroom, 1 - apartment with more than 1 washroom</li>\n",
    "<li>Furni: Is furniture included ? 0 - no, 1 - yes</li>\n",
    "<li>Area: Area of the apartment (square meter)</li>\n",
    "<li>DistToCenter: Distance from listed apartment to center of Hanoi (Hoan Kiem Lake) using the preferred route suggested by Google Maps (kilometers)</li>\n",
    "<li>TimeToCenter: Time suggested by Google Maps when taking the route listed in DistToCenter variable (minutes)</li>\n",
    "<li>Price: Apartment rental price for one month (million VND)</li>\n",
    "</ul>\n"
   ]
  },
  {
   "attachments": {},
   "cell_type": "markdown",
   "metadata": {},
   "source": [
    "Attaching the data:"
   ]
  },
  {
   "cell_type": "code",
   "execution_count": 1,
   "metadata": {
    "vscode": {
     "languageId": "r"
    }
   },
   "outputs": [],
   "source": [
    "data <- read.csv('D:/chungcu.csv')\n",
    "attach(data)"
   ]
  },
  {
   "attachments": {},
   "cell_type": "markdown",
   "metadata": {},
   "source": [
    "## Descriptive statistics of variables:"
   ]
  },
  {
   "attachments": {},
   "cell_type": "markdown",
   "metadata": {},
   "source": [
    "Summary statistics:"
   ]
  },
  {
   "cell_type": "code",
   "execution_count": 2,
   "metadata": {
    "vscode": {
     "languageId": "r"
    }
   },
   "outputs": [
    {
     "data": {
      "text/plain": [
       "       BR             WC           Furni           Area         DistToCenter   \n",
       " Min.   :1.00   Min.   :1.00   Min.   :0.00   Min.   : 43.00   Min.   : 2.200  \n",
       " 1st Qu.:2.00   1st Qu.:2.00   1st Qu.:0.00   1st Qu.: 75.00   1st Qu.: 5.900  \n",
       " Median :2.00   Median :2.00   Median :1.00   Median : 90.00   Median : 7.900  \n",
       " Mean   :2.36   Mean   :1.86   Mean   :0.61   Mean   : 95.69   Mean   : 8.188  \n",
       " 3rd Qu.:3.00   3rd Qu.:2.00   3rd Qu.:1.00   3rd Qu.:115.00   3rd Qu.:10.200  \n",
       " Max.   :4.00   Max.   :3.00   Max.   :1.00   Max.   :180.00   Max.   :15.500  \n",
       "  TimeToCenter       Price          WCdummy     \n",
       " Min.   :10.00   Min.   : 6.00   Min.   :0.000  \n",
       " 1st Qu.:22.00   1st Qu.:13.88   1st Qu.:1.000  \n",
       " Median :28.00   Median :16.00   Median :1.000  \n",
       " Mean   :28.97   Mean   :18.14   Mean   :0.785  \n",
       " 3rd Qu.:34.00   3rd Qu.:20.00   3rd Qu.:1.000  \n",
       " Max.   :44.00   Max.   :55.00   Max.   :1.000  "
      ]
     },
     "metadata": {},
     "output_type": "display_data"
    }
   ],
   "source": [
    "summary(data)"
   ]
  },
  {
   "attachments": {},
   "cell_type": "markdown",
   "metadata": {},
   "source": [
    "###### BR variable only consists of integer values between [1:4] as number of bedrooms in an apartment cannot be a decimal. <br>\n",
    "###### WC variable only consists of integer values between [1:3] as number of washrooms in an apartment cannot be a decimal.\n"
   ]
  },
  {
   "attachments": {},
   "cell_type": "markdown",
   "metadata": {},
   "source": [
    "Correlation matrix: High correlation between BR and WC, possible multicollinearity error. "
   ]
  },
  {
   "cell_type": "code",
   "execution_count": 3,
   "metadata": {
    "vscode": {
     "languageId": "r"
    }
   },
   "outputs": [
    {
     "data": {
      "text/html": [
       "<table class=\"dataframe\">\n",
       "<caption>A matrix: 7 × 7 of type dbl</caption>\n",
       "<thead>\n",
       "\t<tr><th></th><th scope=col>BR</th><th scope=col>WC</th><th scope=col>Furni</th><th scope=col>Area</th><th scope=col>DistToCenter</th><th scope=col>TimeToCenter</th><th scope=col>Price</th></tr>\n",
       "</thead>\n",
       "<tbody>\n",
       "\t<tr><th scope=row>BR</th><td> 1.00000000</td><td> 0.726709549</td><td>-0.01248737</td><td> 0.83750840</td><td> 0.023455422</td><td> 0.049154809</td><td> 0.5153628</td></tr>\n",
       "\t<tr><th scope=row>WC</th><td> 0.72670955</td><td> 1.000000000</td><td> 0.08043214</td><td> 0.71841356</td><td>-0.003766987</td><td> 0.004777875</td><td> 0.4695828</td></tr>\n",
       "\t<tr><th scope=row>Furni</th><td>-0.01248737</td><td> 0.080432136</td><td> 1.00000000</td><td> 0.08976559</td><td>-0.088266035</td><td>-0.062864202</td><td> 0.2987830</td></tr>\n",
       "\t<tr><th scope=row>Area</th><td> 0.83750840</td><td> 0.718413559</td><td> 0.08976559</td><td> 1.00000000</td><td>-0.115838971</td><td>-0.085497350</td><td> 0.6165050</td></tr>\n",
       "\t<tr><th scope=row>DistToCenter</th><td> 0.02345542</td><td>-0.003766987</td><td>-0.08826604</td><td>-0.11583897</td><td> 1.000000000</td><td> 0.864965410</td><td>-0.3163879</td></tr>\n",
       "\t<tr><th scope=row>TimeToCenter</th><td> 0.04915481</td><td> 0.004777875</td><td>-0.06286420</td><td>-0.08549735</td><td> 0.864965410</td><td> 1.000000000</td><td>-0.2255649</td></tr>\n",
       "\t<tr><th scope=row>Price</th><td> 0.51536283</td><td> 0.469582818</td><td> 0.29878297</td><td> 0.61650499</td><td>-0.316387914</td><td>-0.225564860</td><td> 1.0000000</td></tr>\n",
       "</tbody>\n",
       "</table>\n"
      ],
      "text/latex": [
       "A matrix: 7 × 7 of type dbl\n",
       "\\begin{tabular}{r|lllllll}\n",
       "  & BR & WC & Furni & Area & DistToCenter & TimeToCenter & Price\\\\\n",
       "\\hline\n",
       "\tBR &  1.00000000 &  0.726709549 & -0.01248737 &  0.83750840 &  0.023455422 &  0.049154809 &  0.5153628\\\\\n",
       "\tWC &  0.72670955 &  1.000000000 &  0.08043214 &  0.71841356 & -0.003766987 &  0.004777875 &  0.4695828\\\\\n",
       "\tFurni & -0.01248737 &  0.080432136 &  1.00000000 &  0.08976559 & -0.088266035 & -0.062864202 &  0.2987830\\\\\n",
       "\tArea &  0.83750840 &  0.718413559 &  0.08976559 &  1.00000000 & -0.115838971 & -0.085497350 &  0.6165050\\\\\n",
       "\tDistToCenter &  0.02345542 & -0.003766987 & -0.08826604 & -0.11583897 &  1.000000000 &  0.864965410 & -0.3163879\\\\\n",
       "\tTimeToCenter &  0.04915481 &  0.004777875 & -0.06286420 & -0.08549735 &  0.864965410 &  1.000000000 & -0.2255649\\\\\n",
       "\tPrice &  0.51536283 &  0.469582818 &  0.29878297 &  0.61650499 & -0.316387914 & -0.225564860 &  1.0000000\\\\\n",
       "\\end{tabular}\n"
      ],
      "text/markdown": [
       "\n",
       "A matrix: 7 × 7 of type dbl\n",
       "\n",
       "| <!--/--> | BR | WC | Furni | Area | DistToCenter | TimeToCenter | Price |\n",
       "|---|---|---|---|---|---|---|---|\n",
       "| BR |  1.00000000 |  0.726709549 | -0.01248737 |  0.83750840 |  0.023455422 |  0.049154809 |  0.5153628 |\n",
       "| WC |  0.72670955 |  1.000000000 |  0.08043214 |  0.71841356 | -0.003766987 |  0.004777875 |  0.4695828 |\n",
       "| Furni | -0.01248737 |  0.080432136 |  1.00000000 |  0.08976559 | -0.088266035 | -0.062864202 |  0.2987830 |\n",
       "| Area |  0.83750840 |  0.718413559 |  0.08976559 |  1.00000000 | -0.115838971 | -0.085497350 |  0.6165050 |\n",
       "| DistToCenter |  0.02345542 | -0.003766987 | -0.08826604 | -0.11583897 |  1.000000000 |  0.864965410 | -0.3163879 |\n",
       "| TimeToCenter |  0.04915481 |  0.004777875 | -0.06286420 | -0.08549735 |  0.864965410 |  1.000000000 | -0.2255649 |\n",
       "| Price |  0.51536283 |  0.469582818 |  0.29878297 |  0.61650499 | -0.316387914 | -0.225564860 |  1.0000000 |\n",
       "\n"
      ],
      "text/plain": [
       "             BR          WC           Furni       Area        DistToCenter\n",
       "BR            1.00000000  0.726709549 -0.01248737  0.83750840  0.023455422\n",
       "WC            0.72670955  1.000000000  0.08043214  0.71841356 -0.003766987\n",
       "Furni        -0.01248737  0.080432136  1.00000000  0.08976559 -0.088266035\n",
       "Area          0.83750840  0.718413559  0.08976559  1.00000000 -0.115838971\n",
       "DistToCenter  0.02345542 -0.003766987 -0.08826604 -0.11583897  1.000000000\n",
       "TimeToCenter  0.04915481  0.004777875 -0.06286420 -0.08549735  0.864965410\n",
       "Price         0.51536283  0.469582818  0.29878297  0.61650499 -0.316387914\n",
       "             TimeToCenter Price     \n",
       "BR            0.049154809  0.5153628\n",
       "WC            0.004777875  0.4695828\n",
       "Furni        -0.062864202  0.2987830\n",
       "Area         -0.085497350  0.6165050\n",
       "DistToCenter  0.864965410 -0.3163879\n",
       "TimeToCenter  1.000000000 -0.2255649\n",
       "Price        -0.225564860  1.0000000"
      ]
     },
     "metadata": {},
     "output_type": "display_data"
    }
   ],
   "source": [
    "cor(data[1:7])"
   ]
  },
  {
   "attachments": {},
   "cell_type": "markdown",
   "metadata": {},
   "source": [
    "## Loading in necessary libraries"
   ]
  },
  {
   "attachments": {},
   "cell_type": "markdown",
   "metadata": {},
   "source": [
    "lmtest is for hypothesis testing of errors presence in models. <br>\n",
    "Metrics is for different error types regarding goodness of fit."
   ]
  },
  {
   "cell_type": "code",
   "execution_count": 51,
   "metadata": {
    "vscode": {
     "languageId": "r"
    }
   },
   "outputs": [
    {
     "name": "stderr",
     "output_type": "stream",
     "text": [
      "Loading required package: carData\n",
      "\n"
     ]
    }
   ],
   "source": [
    "library('lmtest')\n",
    "library('Metrics')\n",
    "library('car')\n"
   ]
  },
  {
   "attachments": {},
   "cell_type": "markdown",
   "metadata": {},
   "source": [
    "## Initial models\n",
    "We start with 4 initial models. From this point on, the default level of ∝ is 5%"
   ]
  },
  {
   "attachments": {},
   "cell_type": "markdown",
   "metadata": {},
   "source": [
    "### Model 1"
   ]
  },
  {
   "cell_type": "code",
   "execution_count": 5,
   "metadata": {
    "vscode": {
     "languageId": "r"
    }
   },
   "outputs": [
    {
     "data": {
      "text/plain": [
       "\n",
       "Call:\n",
       "lm(formula = Price ~ BR + Furni + Area + DistToCenter + TimeToCenter + \n",
       "    WC)\n",
       "\n",
       "Residuals:\n",
       "     Min       1Q   Median       3Q      Max \n",
       "-10.6136  -3.5560  -0.3655   2.1497  24.4877 \n",
       "\n",
       "Coefficients:\n",
       "             Estimate Std. Error t value Pr(>|t|)    \n",
       "(Intercept)   5.36905    2.05732   2.610 0.009772 ** \n",
       "BR            1.36373    1.01285   1.346 0.179742    \n",
       "Furni         3.62749    0.79811   4.545 9.67e-06 ***\n",
       "Area          0.10533    0.02591   4.066 6.97e-05 ***\n",
       "DistToCenter -0.94673    0.26053  -3.634 0.000358 ***\n",
       "TimeToCenter  0.12306    0.09091   1.354 0.177428    \n",
       "WC            0.77989    1.12002   0.696 0.487068    \n",
       "---\n",
       "Signif. codes:  0 '***' 0.001 '**' 0.01 '*' 0.05 '.' 0.1 ' ' 1\n",
       "\n",
       "Residual standard error: 5.383 on 193 degrees of freedom\n",
       "Multiple R-squared:  0.5055,\tAdjusted R-squared:  0.4901 \n",
       "F-statistic: 32.88 on 6 and 193 DF,  p-value: < 2.2e-16\n"
      ]
     },
     "metadata": {},
     "output_type": "display_data"
    }
   ],
   "source": [
    "test1 <- lm(Price ~ BR + Furni + Area + DistToCenter + TimeToCenter + WC)\n",
    "summary(test1)"
   ]
  },
  {
   "attachments": {},
   "cell_type": "markdown",
   "metadata": {},
   "source": [
    "### Model 2"
   ]
  },
  {
   "cell_type": "code",
   "execution_count": 6,
   "metadata": {
    "vscode": {
     "languageId": "r"
    }
   },
   "outputs": [
    {
     "data": {
      "text/plain": [
       "\n",
       "Call:\n",
       "lm(formula = log(Price, base = exp(1)) ~ BR + Furni + Area + \n",
       "    DistToCenter + TimeToCenter + WC)\n",
       "\n",
       "Residuals:\n",
       "     Min       1Q   Median       3Q      Max \n",
       "-0.62317 -0.15784  0.01808  0.13465  0.61812 \n",
       "\n",
       "Coefficients:\n",
       "              Estimate Std. Error t value Pr(>|t|)    \n",
       "(Intercept)   2.173686   0.094620  22.973  < 2e-16 ***\n",
       "BR            0.103103   0.046583   2.213 0.028047 *  \n",
       "Furni         0.203913   0.036706   5.555 9.11e-08 ***\n",
       "Area          0.004962   0.001192   4.165 4.69e-05 ***\n",
       "DistToCenter -0.044483   0.011982  -3.712 0.000269 ***\n",
       "TimeToCenter  0.005813   0.004181   1.390 0.166036    \n",
       "WC            0.004190   0.051512   0.081 0.935258    \n",
       "---\n",
       "Signif. codes:  0 '***' 0.001 '**' 0.01 '*' 0.05 '.' 0.1 ' ' 1\n",
       "\n",
       "Residual standard error: 0.2476 on 193 degrees of freedom\n",
       "Multiple R-squared:  0.5506,\tAdjusted R-squared:  0.5366 \n",
       "F-statistic: 39.41 on 6 and 193 DF,  p-value: < 2.2e-16\n"
      ]
     },
     "metadata": {},
     "output_type": "display_data"
    }
   ],
   "source": [
    "test2 <- lm(log(Price, base = exp(1)) ~ BR + Furni + Area + DistToCenter + TimeToCenter + WC)\n",
    "summary(test2)"
   ]
  },
  {
   "attachments": {},
   "cell_type": "markdown",
   "metadata": {},
   "source": [
    "### Model 3"
   ]
  },
  {
   "cell_type": "code",
   "execution_count": 7,
   "metadata": {
    "vscode": {
     "languageId": "r"
    }
   },
   "outputs": [
    {
     "data": {
      "text/plain": [
       "\n",
       "Call:\n",
       "lm(formula = Price ~ BR + Furni + Area + DistToCenter + TimeToCenter + \n",
       "    WCdummy)\n",
       "\n",
       "Residuals:\n",
       "    Min      1Q  Median      3Q     Max \n",
       "-10.471  -3.403  -0.442   2.360  24.020 \n",
       "\n",
       "Coefficients:\n",
       "             Estimate Std. Error t value Pr(>|t|)    \n",
       "(Intercept)   5.09608    1.99845   2.550 0.011548 *  \n",
       "BR            2.03600    0.98095   2.076 0.039262 *  \n",
       "Furni         3.74765    0.79019   4.743 4.09e-06 ***\n",
       "Area          0.12216    0.02551   4.789 3.32e-06 ***\n",
       "DistToCenter -0.90037    0.25897  -3.477 0.000627 ***\n",
       "TimeToCenter  0.12004    0.09018   1.331 0.184722    \n",
       "WCdummy      -2.34205    1.26128  -1.857 0.064852 .  \n",
       "---\n",
       "Signif. codes:  0 '***' 0.001 '**' 0.01 '*' 0.05 '.' 0.1 ' ' 1\n",
       "\n",
       "Residual standard error: 5.343 on 193 degrees of freedom\n",
       "Multiple R-squared:  0.513,\tAdjusted R-squared:  0.4978 \n",
       "F-statistic: 33.88 on 6 and 193 DF,  p-value: < 2.2e-16\n"
      ]
     },
     "metadata": {},
     "output_type": "display_data"
    }
   ],
   "source": [
    "test3 <- lm(Price ~ BR + Furni + Area + DistToCenter + TimeToCenter + WCdummy)\n",
    "summary(test3)"
   ]
  },
  {
   "attachments": {},
   "cell_type": "markdown",
   "metadata": {},
   "source": [
    "### Model 4"
   ]
  },
  {
   "cell_type": "code",
   "execution_count": 8,
   "metadata": {
    "vscode": {
     "languageId": "r"
    }
   },
   "outputs": [
    {
     "data": {
      "text/plain": [
       "\n",
       "Call:\n",
       "lm(formula = log(Price, base = exp(1)) ~ BR + Furni + Area + \n",
       "    DistToCenter + TimeToCenter + WCdummy)\n",
       "\n",
       "Residuals:\n",
       "    Min      1Q  Median      3Q     Max \n",
       "-0.5926 -0.1544  0.0171  0.1387  0.6486 \n",
       "\n",
       "Coefficients:\n",
       "              Estimate Std. Error t value Pr(>|t|)    \n",
       "(Intercept)   2.150774   0.092058  23.363  < 2e-16 ***\n",
       "BR            0.121213   0.045187   2.682 0.007942 ** \n",
       "Furni         0.206941   0.036400   5.685 4.77e-08 ***\n",
       "Area          0.005438   0.001175   4.629 6.74e-06 ***\n",
       "DistToCenter -0.043031   0.011929  -3.607 0.000394 ***\n",
       "TimeToCenter  0.005763   0.004154   1.387 0.166954    \n",
       "WCdummy      -0.088982   0.058100  -1.532 0.127276    \n",
       "---\n",
       "Signif. codes:  0 '***' 0.001 '**' 0.01 '*' 0.05 '.' 0.1 ' ' 1\n",
       "\n",
       "Residual standard error: 0.2461 on 193 degrees of freedom\n",
       "Multiple R-squared:  0.556,\tAdjusted R-squared:  0.5422 \n",
       "F-statistic: 40.28 on 6 and 193 DF,  p-value: < 2.2e-16\n"
      ]
     },
     "metadata": {},
     "output_type": "display_data"
    }
   ],
   "source": [
    "test4 <- lm(log(Price, base = exp(1)) ~ BR + Furni + Area + DistToCenter + TimeToCenter + WCdummy)\n",
    "summary(test4)"
   ]
  },
  {
   "attachments": {},
   "cell_type": "markdown",
   "metadata": {},
   "source": [
    "Initial summaries of all 4 linear models contains more than one insignificant coefficients, mostly on our WC, WCdummy and TimeToCenter variables. <br> As the number of washrooms in an apartment is not a strong determinant of its rental price, and we can use our DistToCenter variable instead of TimeToCenter, <br> we will attempt to remove insignificant variables."
   ]
  },
  {
   "attachments": {},
   "cell_type": "markdown",
   "metadata": {},
   "source": [
    "## Backward-method insignificant variables removal"
   ]
  },
  {
   "attachments": {},
   "cell_type": "markdown",
   "metadata": {},
   "source": [
    "###      Model 1"
   ]
  },
  {
   "attachments": {},
   "cell_type": "markdown",
   "metadata": {},
   "source": [
    "#### Reduced model 1: lm(formula = Price ~ BR + Furni + Area + DistToCenter)\n"
   ]
  },
  {
   "cell_type": "code",
   "execution_count": 9,
   "metadata": {
    "vscode": {
     "languageId": "r"
    }
   },
   "outputs": [
    {
     "name": "stdout",
     "output_type": "stream",
     "text": [
      "Start:  AIC=680.2\n",
      "Price ~ BR + Furni + Area + DistToCenter + TimeToCenter + WC\n",
      "\n",
      "               Df Sum of Sq    RSS    AIC\n",
      "- WC            1     14.05 5607.3 678.70\n",
      "- BR            1     52.54 5645.8 680.07\n",
      "- TimeToCenter  1     53.10 5646.3 680.09\n",
      "<none>                      5593.2 680.20\n",
      "- DistToCenter  1    382.69 5975.9 691.44\n",
      "- Area          1    479.05 6072.3 694.63\n",
      "- Furni         1    598.68 6191.9 698.54\n",
      "\n",
      "Step:  AIC=678.7\n",
      "Price ~ BR + Furni + Area + DistToCenter + TimeToCenter\n",
      "\n",
      "               Df Sum of Sq    RSS    AIC\n",
      "- TimeToCenter  1     51.46 5658.7 678.53\n",
      "<none>                      5607.3 678.70\n",
      "- BR            1     79.89 5687.2 679.53\n",
      "- DistToCenter  1    376.09 5983.4 689.68\n",
      "- Area          1    569.68 6177.0 696.05\n",
      "- Furni         1    618.79 6226.1 697.64\n",
      "\n",
      "Step:  AIC=678.53\n",
      "Price ~ BR + Furni + Area + DistToCenter\n",
      "\n",
      "               Df Sum of Sq    RSS    AIC\n",
      "<none>                      5658.7 678.53\n",
      "- BR            1     88.90 5747.7 679.65\n",
      "- Area          1    556.57 6215.3 695.29\n",
      "- Furni         1    631.78 6290.5 697.70\n",
      "- DistToCenter  1    660.99 6319.7 698.62\n"
     ]
    },
    {
     "data": {
      "text/plain": [
       "\n",
       "Call:\n",
       "lm(formula = Price ~ BR + Furni + Area + DistToCenter)\n",
       "\n",
       "Coefficients:\n",
       " (Intercept)            BR         Furni          Area  DistToCenter  \n",
       "      6.7398        1.6753        3.7108        0.1090       -0.6401  \n"
      ]
     },
     "metadata": {},
     "output_type": "display_data"
    }
   ],
   "source": [
    "step(test1, direction = 'backward')"
   ]
  },
  {
   "attachments": {},
   "cell_type": "markdown",
   "metadata": {},
   "source": [
    "### Model 2"
   ]
  },
  {
   "attachments": {},
   "cell_type": "markdown",
   "metadata": {},
   "source": [
    "#### Reduced model 2: lm(formula = log(Price, base = exp(1)) ~ BR + Furni + Area + DistToCenter)"
   ]
  },
  {
   "cell_type": "code",
   "execution_count": 10,
   "metadata": {
    "vscode": {
     "languageId": "r"
    }
   },
   "outputs": [
    {
     "name": "stdout",
     "output_type": "stream",
     "text": [
      "Start:  AIC=-551.52\n",
      "log(Price, base = exp(1)) ~ BR + Furni + Area + DistToCenter + \n",
      "    TimeToCenter + WC\n",
      "\n",
      "               Df Sum of Sq    RSS     AIC\n",
      "- WC            1   0.00041 11.832 -553.51\n",
      "- TimeToCenter  1   0.11849 11.950 -551.52\n",
      "<none>                      11.831 -551.52\n",
      "- BR            1   0.30030 12.131 -548.50\n",
      "- DistToCenter  1   0.84486 12.676 -539.72\n",
      "- Area          1   1.06335 12.895 -536.30\n",
      "- Furni         1   1.89179 13.723 -523.85\n",
      "\n",
      "Step:  AIC=-553.51\n",
      "log(Price, base = exp(1)) ~ BR + Furni + Area + DistToCenter + \n",
      "    TimeToCenter\n",
      "\n",
      "               Df Sum of Sq    RSS     AIC\n",
      "- TimeToCenter  1   0.11817 11.950 -553.52\n",
      "<none>                      11.832 -553.51\n",
      "- BR            1   0.34329 12.175 -549.79\n",
      "- DistToCenter  1   0.84524 12.677 -541.71\n",
      "- Area          1   1.16481 12.996 -536.73\n",
      "- Furni         1   1.91023 13.742 -525.58\n",
      "\n",
      "Step:  AIC=-553.52\n",
      "log(Price, base = exp(1)) ~ BR + Furni + Area + DistToCenter\n",
      "\n",
      "               Df Sum of Sq    RSS     AIC\n",
      "<none>                      11.950 -553.52\n",
      "- BR            1    0.3718 12.322 -549.39\n",
      "- Area          1    1.1363 13.086 -537.36\n",
      "- DistToCenter  1    1.4706 13.420 -532.31\n",
      "- Furni         1    1.9451 13.895 -525.36\n"
     ]
    },
    {
     "data": {
      "text/plain": [
       "\n",
       "Call:\n",
       "lm(formula = log(Price, base = exp(1)) ~ BR + Furni + Area + \n",
       "    DistToCenter)\n",
       "\n",
       "Coefficients:\n",
       " (Intercept)            BR         Furni          Area  DistToCenter  \n",
       "    2.223017      0.108339      0.205901      0.004924     -0.030193  \n"
      ]
     },
     "metadata": {},
     "output_type": "display_data"
    }
   ],
   "source": [
    "step(test2, direction = 'backward')"
   ]
  },
  {
   "attachments": {},
   "cell_type": "markdown",
   "metadata": {},
   "source": [
    "### Model 3"
   ]
  },
  {
   "attachments": {},
   "cell_type": "markdown",
   "metadata": {},
   "source": [
    "#### Reduced model 3: lm(formula = Price ~ BR + WCdummy + Furni + Area + DistToCenter)"
   ]
  },
  {
   "cell_type": "code",
   "execution_count": 11,
   "metadata": {
    "vscode": {
     "languageId": "r"
    }
   },
   "outputs": [
    {
     "name": "stdout",
     "output_type": "stream",
     "text": [
      "Start:  AIC=677.16\n",
      "Price ~ BR + Furni + Area + DistToCenter + TimeToCenter + WCdummy\n",
      "\n",
      "               Df Sum of Sq    RSS    AIC\n",
      "- TimeToCenter  1     50.58 5559.4 676.99\n",
      "<none>                      5508.9 677.16\n",
      "- WCdummy       1     98.42 5607.3 678.70\n",
      "- BR            1    122.96 5631.8 679.57\n",
      "- DistToCenter  1    345.04 5853.9 687.31\n",
      "- Furni         1    642.04 6150.9 697.21\n",
      "- Area          1    654.76 6163.6 697.62\n",
      "\n",
      "Step:  AIC=676.99\n",
      "Price ~ BR + Furni + Area + DistToCenter + WCdummy\n",
      "\n",
      "               Df Sum of Sq    RSS    AIC\n",
      "<none>                      5559.4 676.99\n",
      "- WCdummy       1     99.30 5658.7 678.53\n",
      "- BR            1    134.01 5693.5 679.75\n",
      "- DistToCenter  1    580.51 6140.0 694.85\n",
      "- Area          1    641.79 6201.2 696.84\n",
      "- Furni         1    655.28 6214.7 697.27\n"
     ]
    },
    {
     "data": {
      "text/plain": [
       "\n",
       "Call:\n",
       "lm(formula = Price ~ BR + Furni + Area + DistToCenter + WCdummy)\n",
       "\n",
       "Coefficients:\n",
       " (Intercept)            BR         Furni          Area  DistToCenter  \n",
       "      6.0709        2.1210        3.7839        0.1209       -0.6056  \n",
       "     WCdummy  \n",
       "     -2.3525  \n"
      ]
     },
     "metadata": {},
     "output_type": "display_data"
    }
   ],
   "source": [
    "step(test3, direction = 'backward')"
   ]
  },
  {
   "attachments": {},
   "cell_type": "markdown",
   "metadata": {},
   "source": [
    "### Model 4"
   ]
  },
  {
   "attachments": {},
   "cell_type": "markdown",
   "metadata": {},
   "source": [
    "#### Reduced model 4: lm(formula = log(Price, base = exp(1)) ~ BR + WCdummy + Furni + Area + DistToCenter)"
   ]
  },
  {
   "cell_type": "code",
   "execution_count": 12,
   "metadata": {
    "vscode": {
     "languageId": "r"
    }
   },
   "outputs": [
    {
     "name": "stdout",
     "output_type": "stream",
     "text": [
      "Start:  AIC=-553.93\n",
      "log(Price, base = exp(1)) ~ BR + Furni + Area + DistToCenter + \n",
      "    TimeToCenter + WCdummy\n",
      "\n",
      "               Df Sum of Sq    RSS     AIC\n",
      "- TimeToCenter  1   0.11657 11.806 -553.94\n",
      "<none>                      11.690 -553.93\n",
      "- WCdummy       1   0.14207 11.832 -553.51\n",
      "- BR            1   0.43582 12.125 -548.60\n",
      "- DistToCenter  1   0.78812 12.478 -542.88\n",
      "- Area          1   1.29771 12.987 -534.87\n",
      "- Furni         1   1.95764 13.647 -524.96\n",
      "\n",
      "Step:  AIC=-553.94\n",
      "log(Price, base = exp(1)) ~ BR + Furni + Area + DistToCenter + \n",
      "    WCdummy\n",
      "\n",
      "               Df Sum of Sq    RSS     AIC\n",
      "<none>                      11.806 -553.94\n",
      "- WCdummy       1   0.14367 11.950 -553.52\n",
      "- BR            1   0.46764 12.274 -548.17\n",
      "- Area          1   1.26985 13.076 -535.51\n",
      "- DistToCenter  1   1.32017 13.126 -534.74\n",
      "- Furni         1   1.99304 13.799 -524.74\n"
     ]
    },
    {
     "data": {
      "text/plain": [
       "\n",
       "Call:\n",
       "lm(formula = log(Price, base = exp(1)) ~ BR + Furni + Area + \n",
       "    DistToCenter + WCdummy)\n",
       "\n",
       "Coefficients:\n",
       " (Intercept)            BR         Furni          Area  DistToCenter  \n",
       "    2.197575      0.125294      0.208679      0.005376     -0.028881  \n",
       "     WCdummy  \n",
       "   -0.089483  \n"
      ]
     },
     "metadata": {},
     "output_type": "display_data"
    }
   ],
   "source": [
    "step(test4, direction = 'backward')"
   ]
  },
  {
   "attachments": {},
   "cell_type": "markdown",
   "metadata": {},
   "source": [
    "## Summary of reduced models"
   ]
  },
  {
   "attachments": {},
   "cell_type": "markdown",
   "metadata": {},
   "source": [
    "### Model 1:"
   ]
  },
  {
   "cell_type": "code",
   "execution_count": 13,
   "metadata": {
    "vscode": {
     "languageId": "r"
    }
   },
   "outputs": [
    {
     "data": {
      "text/plain": [
       "\n",
       "Call:\n",
       "lm(formula = (Price) ~ Area + DistToCenter + BR + Furni)\n",
       "\n",
       "Residuals:\n",
       "    Min      1Q  Median      3Q     Max \n",
       "-9.8606 -3.3170 -0.1949  2.0463 25.1390 \n",
       "\n",
       "Coefficients:\n",
       "             Estimate Std. Error t value Pr(>|t|)    \n",
       "(Intercept)   6.73981    1.83966   3.664  0.00032 ***\n",
       "Area          0.10897    0.02488   4.379 1.94e-05 ***\n",
       "DistToCenter -0.64010    0.13412  -4.773 3.56e-06 ***\n",
       "BR            1.67527    0.95713   1.750  0.08164 .  \n",
       "Furni         3.71082    0.79530   4.666 5.70e-06 ***\n",
       "---\n",
       "Signif. codes:  0 '***' 0.001 '**' 0.01 '*' 0.05 '.' 0.1 ' ' 1\n",
       "\n",
       "Residual standard error: 5.387 on 195 degrees of freedom\n",
       "Multiple R-squared:  0.4997,\tAdjusted R-squared:  0.4895 \n",
       "F-statistic: 48.69 on 4 and 195 DF,  p-value: < 2.2e-16\n"
      ]
     },
     "metadata": {},
     "output_type": "display_data"
    }
   ],
   "source": [
    "lm1 <- lm((Price) ~ Area + DistToCenter + BR + Furni)\n",
    "summary(lm1)"
   ]
  },
  {
   "attachments": {},
   "cell_type": "markdown",
   "metadata": {},
   "source": [
    "### Model 2:"
   ]
  },
  {
   "cell_type": "code",
   "execution_count": 14,
   "metadata": {
    "vscode": {
     "languageId": "r"
    }
   },
   "outputs": [
    {
     "data": {
      "text/plain": [
       "\n",
       "Call:\n",
       "lm(formula = log(Price, base = exp(1)) ~ Area + DistToCenter + \n",
       "    BR + Furni)\n",
       "\n",
       "Residuals:\n",
       "    Min      1Q  Median      3Q     Max \n",
       "-0.6414 -0.1619  0.0137  0.1238  0.5842 \n",
       "\n",
       "Coefficients:\n",
       "              Estimate Std. Error t value Pr(>|t|)    \n",
       "(Intercept)   2.223017   0.084539  26.296  < 2e-16 ***\n",
       "Area          0.004924   0.001143   4.306 2.63e-05 ***\n",
       "DistToCenter -0.030193   0.006163  -4.899 2.02e-06 ***\n",
       "BR            0.108339   0.043984   2.463   0.0146 *  \n",
       "Furni         0.205901   0.036547   5.634 6.09e-08 ***\n",
       "---\n",
       "Signif. codes:  0 '***' 0.001 '**' 0.01 '*' 0.05 '.' 0.1 ' ' 1\n",
       "\n",
       "Residual standard error: 0.2475 on 195 degrees of freedom\n",
       "Multiple R-squared:  0.5461,\tAdjusted R-squared:  0.5368 \n",
       "F-statistic: 58.65 on 4 and 195 DF,  p-value: < 2.2e-16\n"
      ]
     },
     "metadata": {},
     "output_type": "display_data"
    }
   ],
   "source": [
    "lm2 <- lm(log(Price, base = exp(1)) ~ Area + DistToCenter + BR + Furni)\n",
    "summary(lm2)"
   ]
  },
  {
   "attachments": {},
   "cell_type": "markdown",
   "metadata": {},
   "source": [
    "### Model 3:"
   ]
  },
  {
   "cell_type": "code",
   "execution_count": 15,
   "metadata": {
    "vscode": {
     "languageId": "r"
    }
   },
   "outputs": [
    {
     "data": {
      "text/plain": [
       "\n",
       "Call:\n",
       "lm(formula = Price ~ BR + Furni + Area + DistToCenter + WCdummy)\n",
       "\n",
       "Residuals:\n",
       "     Min       1Q   Median       3Q      Max \n",
       "-10.4156  -3.2465  -0.2945   2.1955  24.3974 \n",
       "\n",
       "Coefficients:\n",
       "             Estimate Std. Error t value Pr(>|t|)    \n",
       "(Intercept)   6.07094    1.86312   3.258  0.00132 ** \n",
       "BR            2.12099    0.98082   2.162  0.03181 *  \n",
       "Furni         3.78387    0.79129   4.782 3.43e-06 ***\n",
       "Area          0.12085    0.02554   4.732 4.27e-06 ***\n",
       "DistToCenter -0.60563    0.13456  -4.501 1.17e-05 ***\n",
       "WCdummy      -2.35248    1.26376  -1.861  0.06419 .  \n",
       "---\n",
       "Signif. codes:  0 '***' 0.001 '**' 0.01 '*' 0.05 '.' 0.1 ' ' 1\n",
       "\n",
       "Residual standard error: 5.353 on 194 degrees of freedom\n",
       "Multiple R-squared:  0.5085,\tAdjusted R-squared:  0.4958 \n",
       "F-statistic: 40.14 on 5 and 194 DF,  p-value: < 2.2e-16\n"
      ]
     },
     "metadata": {},
     "output_type": "display_data"
    }
   ],
   "source": [
    "lm3 <- lm(formula = Price ~ BR + Furni + Area + DistToCenter + WCdummy)\n",
    "summary(lm3)"
   ]
  },
  {
   "attachments": {},
   "cell_type": "markdown",
   "metadata": {},
   "source": [
    "### Model 4:"
   ]
  },
  {
   "cell_type": "code",
   "execution_count": 16,
   "metadata": {
    "vscode": {
     "languageId": "r"
    }
   },
   "outputs": [
    {
     "data": {
      "text/plain": [
       "\n",
       "Call:\n",
       "lm(formula = log(Price, base = exp(1)) ~ BR + Furni + Area + \n",
       "    DistToCenter + WCdummy)\n",
       "\n",
       "Residuals:\n",
       "     Min       1Q   Median       3Q      Max \n",
       "-0.61186 -0.14522  0.01736  0.13253  0.61406 \n",
       "\n",
       "Coefficients:\n",
       "              Estimate Std. Error t value Pr(>|t|)    \n",
       "(Intercept)   2.197575   0.085857  25.596  < 2e-16 ***\n",
       "BR            0.125294   0.045198   2.772  0.00611 ** \n",
       "Furni         0.208679   0.036465   5.723 3.93e-08 ***\n",
       "Area          0.005376   0.001177   4.568 8.74e-06 ***\n",
       "DistToCenter -0.028881   0.006201  -4.658 5.93e-06 ***\n",
       "WCdummy      -0.089483   0.058237  -1.537  0.12604    \n",
       "---\n",
       "Signif. codes:  0 '***' 0.001 '**' 0.01 '*' 0.05 '.' 0.1 ' ' 1\n",
       "\n",
       "Residual standard error: 0.2467 on 194 degrees of freedom\n",
       "Multiple R-squared:  0.5516,\tAdjusted R-squared:   0.54 \n",
       "F-statistic: 47.72 on 5 and 194 DF,  p-value: < 2.2e-16\n"
      ]
     },
     "metadata": {},
     "output_type": "display_data"
    }
   ],
   "source": [
    "lm4 <- lm(formula = log(Price, base = exp(1)) ~ BR + Furni + Area + DistToCenter + WCdummy)\n",
    "summary(lm4)"
   ]
  },
  {
   "attachments": {},
   "cell_type": "markdown",
   "metadata": {},
   "source": [
    "Comments:\n",
    "<ul>\n",
    "<li>Model 2, 3 have all significant coefficients.</li>\n",
    "<li>Model 1 has important variable BR and Furni with insignificant coefficients. </li>\n",
    "<li>Model 4 has unusual negative coefficient for WCdummy variable against our expectation of a positive coefficient (more washrooms typically means more well-equipped and spacious apartment which should have resulted in a higher price), though this coefficient is insignificant.</li>\n",
    "</ul>"
   ]
  },
  {
   "attachments": {},
   "cell_type": "markdown",
   "metadata": {},
   "source": [
    "## Checking for errors within models:"
   ]
  },
  {
   "attachments": {},
   "cell_type": "markdown",
   "metadata": {},
   "source": [
    "### RMSE (Root mean squared error) of Models: Lower is better"
   ]
  },
  {
   "attachments": {},
   "cell_type": "markdown",
   "metadata": {},
   "source": [
    "#### Model 1"
   ]
  },
  {
   "cell_type": "code",
   "execution_count": 17,
   "metadata": {
    "vscode": {
     "languageId": "r"
    }
   },
   "outputs": [
    {
     "data": {
      "text/html": [
       "5.31918666876292"
      ],
      "text/latex": [
       "5.31918666876292"
      ],
      "text/markdown": [
       "5.31918666876292"
      ],
      "text/plain": [
       "[1] 5.319187"
      ]
     },
     "metadata": {},
     "output_type": "display_data"
    }
   ],
   "source": [
    "rmse(data$Price, predict(lm1))"
   ]
  },
  {
   "attachments": {},
   "cell_type": "markdown",
   "metadata": {},
   "source": [
    "#### Model 2:"
   ]
  },
  {
   "cell_type": "code",
   "execution_count": 18,
   "metadata": {
    "vscode": {
     "languageId": "r"
    }
   },
   "outputs": [
    {
     "data": {
      "text/html": [
       "0.244435019192357"
      ],
      "text/latex": [
       "0.244435019192357"
      ],
      "text/markdown": [
       "0.244435019192357"
      ],
      "text/plain": [
       "[1] 0.244435"
      ]
     },
     "metadata": {},
     "output_type": "display_data"
    }
   ],
   "source": [
    "rmse(log(data$Price, base = exp(1)), predict(lm2))"
   ]
  },
  {
   "attachments": {},
   "cell_type": "markdown",
   "metadata": {},
   "source": [
    "#### Model 3:"
   ]
  },
  {
   "cell_type": "code",
   "execution_count": 19,
   "metadata": {
    "vscode": {
     "languageId": "r"
    }
   },
   "outputs": [
    {
     "data": {
      "text/html": [
       "5.27230938061801"
      ],
      "text/latex": [
       "5.27230938061801"
      ],
      "text/markdown": [
       "5.27230938061801"
      ],
      "text/plain": [
       "[1] 5.272309"
      ]
     },
     "metadata": {},
     "output_type": "display_data"
    }
   ],
   "source": [
    "rmse(data$Price, predict(lm3))"
   ]
  },
  {
   "attachments": {},
   "cell_type": "markdown",
   "metadata": {},
   "source": [
    "#### Model 4:"
   ]
  },
  {
   "cell_type": "code",
   "execution_count": 20,
   "metadata": {
    "vscode": {
     "languageId": "r"
    }
   },
   "outputs": [
    {
     "data": {
      "text/html": [
       "0.242961118073159"
      ],
      "text/latex": [
       "0.242961118073159"
      ],
      "text/markdown": [
       "0.242961118073159"
      ],
      "text/plain": [
       "[1] 0.2429611"
      ]
     },
     "metadata": {},
     "output_type": "display_data"
    }
   ],
   "source": [
    "rmse(log(data$Price, base = exp(1)), predict(lm4))"
   ]
  },
  {
   "attachments": {},
   "cell_type": "markdown",
   "metadata": {},
   "source": [
    "### Mean absolute error (MAE) of models"
   ]
  },
  {
   "attachments": {},
   "cell_type": "markdown",
   "metadata": {},
   "source": [
    "#### Model 1:"
   ]
  },
  {
   "cell_type": "code",
   "execution_count": 21,
   "metadata": {
    "vscode": {
     "languageId": "r"
    }
   },
   "outputs": [
    {
     "data": {
      "text/html": [
       "3.81765315799907"
      ],
      "text/latex": [
       "3.81765315799907"
      ],
      "text/markdown": [
       "3.81765315799907"
      ],
      "text/plain": [
       "[1] 3.817653"
      ]
     },
     "metadata": {},
     "output_type": "display_data"
    }
   ],
   "source": [
    "mae(data$Price, predict(lm1))"
   ]
  },
  {
   "attachments": {},
   "cell_type": "markdown",
   "metadata": {},
   "source": [
    "#### Model 2:"
   ]
  },
  {
   "cell_type": "code",
   "execution_count": 22,
   "metadata": {
    "vscode": {
     "languageId": "r"
    }
   },
   "outputs": [
    {
     "data": {
      "text/html": [
       "0.187504143638032"
      ],
      "text/latex": [
       "0.187504143638032"
      ],
      "text/markdown": [
       "0.187504143638032"
      ],
      "text/plain": [
       "[1] 0.1875041"
      ]
     },
     "metadata": {},
     "output_type": "display_data"
    }
   ],
   "source": [
    "mae(log(data$Price, base = exp(1)), predict(lm2))"
   ]
  },
  {
   "attachments": {},
   "cell_type": "markdown",
   "metadata": {},
   "source": [
    "#### Model 3:"
   ]
  },
  {
   "cell_type": "code",
   "execution_count": 23,
   "metadata": {
    "vscode": {
     "languageId": "r"
    }
   },
   "outputs": [
    {
     "data": {
      "text/html": [
       "3.78980045712489"
      ],
      "text/latex": [
       "3.78980045712489"
      ],
      "text/markdown": [
       "3.78980045712489"
      ],
      "text/plain": [
       "[1] 3.7898"
      ]
     },
     "metadata": {},
     "output_type": "display_data"
    }
   ],
   "source": [
    "mae(data$Price, predict(lm3))"
   ]
  },
  {
   "attachments": {},
   "cell_type": "markdown",
   "metadata": {},
   "source": [
    "#### Model 4:"
   ]
  },
  {
   "cell_type": "code",
   "execution_count": 24,
   "metadata": {
    "vscode": {
     "languageId": "r"
    }
   },
   "outputs": [
    {
     "data": {
      "text/html": [
       "0.187769530679891"
      ],
      "text/latex": [
       "0.187769530679891"
      ],
      "text/markdown": [
       "0.187769530679891"
      ],
      "text/plain": [
       "[1] 0.1877695"
      ]
     },
     "metadata": {},
     "output_type": "display_data"
    }
   ],
   "source": [
    "mae(log(data$Price, base = exp(1)), predict(lm4))"
   ]
  },
  {
   "attachments": {},
   "cell_type": "markdown",
   "metadata": {},
   "source": [
    "### Mean absolute percentage error (MAPE) of models:"
   ]
  },
  {
   "attachments": {},
   "cell_type": "markdown",
   "metadata": {},
   "source": [
    "#### Model 1:"
   ]
  },
  {
   "cell_type": "code",
   "execution_count": 25,
   "metadata": {
    "vscode": {
     "languageId": "r"
    }
   },
   "outputs": [
    {
     "data": {
      "text/html": [
       "0.216933777024387"
      ],
      "text/latex": [
       "0.216933777024387"
      ],
      "text/markdown": [
       "0.216933777024387"
      ],
      "text/plain": [
       "[1] 0.2169338"
      ]
     },
     "metadata": {},
     "output_type": "display_data"
    }
   ],
   "source": [
    "mape(data$Price, predict(lm1))"
   ]
  },
  {
   "attachments": {},
   "cell_type": "markdown",
   "metadata": {},
   "source": [
    "#### Model 2:"
   ]
  },
  {
   "cell_type": "code",
   "execution_count": 26,
   "metadata": {
    "vscode": {
     "languageId": "r"
    }
   },
   "outputs": [
    {
     "data": {
      "text/html": [
       "0.0672585543703846"
      ],
      "text/latex": [
       "0.0672585543703846"
      ],
      "text/markdown": [
       "0.0672585543703846"
      ],
      "text/plain": [
       "[1] 0.06725855"
      ]
     },
     "metadata": {},
     "output_type": "display_data"
    }
   ],
   "source": [
    "mape(log(data$Price, base = exp(1)), predict(lm2))"
   ]
  },
  {
   "attachments": {},
   "cell_type": "markdown",
   "metadata": {},
   "source": [
    "#### Model 3:"
   ]
  },
  {
   "cell_type": "code",
   "execution_count": 27,
   "metadata": {
    "vscode": {
     "languageId": "r"
    }
   },
   "outputs": [
    {
     "data": {
      "text/html": [
       "0.213563561758335"
      ],
      "text/latex": [
       "0.213563561758335"
      ],
      "text/markdown": [
       "0.213563561758335"
      ],
      "text/plain": [
       "[1] 0.2135636"
      ]
     },
     "metadata": {},
     "output_type": "display_data"
    }
   ],
   "source": [
    "mape(data$Price, predict(lm3))"
   ]
  },
  {
   "attachments": {},
   "cell_type": "markdown",
   "metadata": {},
   "source": [
    "#### Model 4:"
   ]
  },
  {
   "cell_type": "code",
   "execution_count": 28,
   "metadata": {
    "vscode": {
     "languageId": "r"
    }
   },
   "outputs": [
    {
     "data": {
      "text/html": [
       "0.067307185948944"
      ],
      "text/latex": [
       "0.067307185948944"
      ],
      "text/markdown": [
       "0.067307185948944"
      ],
      "text/plain": [
       "[1] 0.06730719"
      ]
     },
     "metadata": {},
     "output_type": "display_data"
    }
   ],
   "source": [
    "mape(log(data$Price, base = exp(1)), predict(lm4))"
   ]
  },
  {
   "attachments": {},
   "cell_type": "markdown",
   "metadata": {},
   "source": [
    "### Ramsey's Regression Equation Specification Error Test (RESET)"
   ]
  },
  {
   "attachments": {},
   "cell_type": "markdown",
   "metadata": {},
   "source": [
    "#### Model 1:"
   ]
  },
  {
   "cell_type": "code",
   "execution_count": 29,
   "metadata": {
    "vscode": {
     "languageId": "r"
    }
   },
   "outputs": [
    {
     "data": {
      "text/plain": [
       "\n",
       "\tRESET test\n",
       "\n",
       "data:  lm1\n",
       "RESET = 7.6917, df1 = 2, df2 = 193, p-value = 0.000611\n"
      ]
     },
     "metadata": {},
     "output_type": "display_data"
    }
   ],
   "source": [
    "resettest(lm1)"
   ]
  },
  {
   "attachments": {},
   "cell_type": "markdown",
   "metadata": {},
   "source": [
    "#### Model 2:"
   ]
  },
  {
   "cell_type": "code",
   "execution_count": 30,
   "metadata": {
    "vscode": {
     "languageId": "r"
    }
   },
   "outputs": [
    {
     "data": {
      "text/plain": [
       "\n",
       "\tRESET test\n",
       "\n",
       "data:  lm2\n",
       "RESET = 2.3412, df1 = 2, df2 = 193, p-value = 0.09894\n"
      ]
     },
     "metadata": {},
     "output_type": "display_data"
    }
   ],
   "source": [
    "resettest(lm2)"
   ]
  },
  {
   "attachments": {},
   "cell_type": "markdown",
   "metadata": {},
   "source": [
    "#### Model 3:"
   ]
  },
  {
   "cell_type": "code",
   "execution_count": 31,
   "metadata": {
    "vscode": {
     "languageId": "r"
    }
   },
   "outputs": [
    {
     "data": {
      "text/plain": [
       "\n",
       "\tRESET test\n",
       "\n",
       "data:  lm3\n",
       "RESET = 6.4094, df1 = 2, df2 = 192, p-value = 0.00202\n"
      ]
     },
     "metadata": {},
     "output_type": "display_data"
    }
   ],
   "source": [
    "resettest(lm3)"
   ]
  },
  {
   "attachments": {},
   "cell_type": "markdown",
   "metadata": {},
   "source": [
    "#### Model 4:"
   ]
  },
  {
   "cell_type": "code",
   "execution_count": 32,
   "metadata": {
    "vscode": {
     "languageId": "r"
    }
   },
   "outputs": [
    {
     "data": {
      "text/plain": [
       "\n",
       "\tRESET test\n",
       "\n",
       "data:  lm4\n",
       "RESET = 1.7813, df1 = 2, df2 = 192, p-value = 0.1712\n"
      ]
     },
     "metadata": {},
     "output_type": "display_data"
    }
   ],
   "source": [
    "resettest(lm4)"
   ]
  },
  {
   "attachments": {},
   "cell_type": "markdown",
   "metadata": {},
   "source": [
    "### Breusch-Pagan test for Heteroscedasticity"
   ]
  },
  {
   "attachments": {},
   "cell_type": "markdown",
   "metadata": {},
   "source": [
    "#### Model 1:"
   ]
  },
  {
   "cell_type": "code",
   "execution_count": 33,
   "metadata": {
    "vscode": {
     "languageId": "r"
    }
   },
   "outputs": [
    {
     "data": {
      "text/plain": [
       "\n",
       "\tstudentized Breusch-Pagan test\n",
       "\n",
       "data:  lm1\n",
       "BP = 35.135, df = 4, p-value = 4.358e-07\n"
      ]
     },
     "metadata": {},
     "output_type": "display_data"
    }
   ],
   "source": [
    "bptest(lm1)"
   ]
  },
  {
   "attachments": {},
   "cell_type": "markdown",
   "metadata": {},
   "source": [
    "#### Model 2:"
   ]
  },
  {
   "cell_type": "code",
   "execution_count": 34,
   "metadata": {
    "vscode": {
     "languageId": "r"
    }
   },
   "outputs": [
    {
     "data": {
      "text/plain": [
       "\n",
       "\tstudentized Breusch-Pagan test\n",
       "\n",
       "data:  lm2\n",
       "BP = 12.494, df = 4, p-value = 0.01403\n"
      ]
     },
     "metadata": {},
     "output_type": "display_data"
    }
   ],
   "source": [
    "bptest(lm2)"
   ]
  },
  {
   "attachments": {},
   "cell_type": "markdown",
   "metadata": {},
   "source": [
    "#### Model 3:"
   ]
  },
  {
   "cell_type": "code",
   "execution_count": 35,
   "metadata": {
    "vscode": {
     "languageId": "r"
    }
   },
   "outputs": [
    {
     "data": {
      "text/plain": [
       "\n",
       "\tstudentized Breusch-Pagan test\n",
       "\n",
       "data:  lm3\n",
       "BP = 39.056, df = 5, p-value = 2.314e-07\n"
      ]
     },
     "metadata": {},
     "output_type": "display_data"
    }
   ],
   "source": [
    "bptest(lm3)"
   ]
  },
  {
   "attachments": {},
   "cell_type": "markdown",
   "metadata": {},
   "source": [
    "#### Model 4:"
   ]
  },
  {
   "cell_type": "code",
   "execution_count": 36,
   "metadata": {
    "vscode": {
     "languageId": "r"
    }
   },
   "outputs": [
    {
     "data": {
      "text/plain": [
       "\n",
       "\tstudentized Breusch-Pagan test\n",
       "\n",
       "data:  lm4\n",
       "BP = 14.696, df = 5, p-value = 0.01174\n"
      ]
     },
     "metadata": {},
     "output_type": "display_data"
    }
   ],
   "source": [
    "bptest(lm4)"
   ]
  },
  {
   "attachments": {},
   "cell_type": "markdown",
   "metadata": {},
   "source": [
    "Comments:\n",
    "<ul>\n",
    "<li>Model 2 and Model 4 have lower RMSE, MAE and MAPE after they have been log-transformed. This indicates that they are improved models</li>\n",
    "<li>Only model 2 and model 4 rejected the null hypothesis of the Ramsey’s Regression Equation Specification Error Test (RESET). This indicates these 2 models had no errors relating to omitted variables</li>\n",
    "<li>•All models suffered from heteroscedasticity as they all rejected the null hypothesis of the Breusch-Pagan test. Especially model 1 and model 3.</li>\n",
    "</ul>"
   ]
  },
  {
   "attachments": {},
   "cell_type": "markdown",
   "metadata": {},
   "source": [
    "After considerations, we will proceed with model 2. Model 2 only had the problem of heteroscedasticity. We will attempt to correct this with the weighted least square estimator."
   ]
  },
  {
   "attachments": {},
   "cell_type": "markdown",
   "metadata": {},
   "source": [
    "## Correcting heteroscedasticity"
   ]
  },
  {
   "cell_type": "code",
   "execution_count": 37,
   "metadata": {
    "vscode": {
     "languageId": "r"
    }
   },
   "outputs": [],
   "source": [
    "resid2 <- resid(lm2)"
   ]
  },
  {
   "attachments": {},
   "cell_type": "markdown",
   "metadata": {},
   "source": [
    "### Checking for the source of heteroscedasticity"
   ]
  },
  {
   "attachments": {},
   "cell_type": "markdown",
   "metadata": {},
   "source": [
    "To determine the weight for this estimator, we need to regress squared residuals from model 2 with each of its variable, as well as that same variable but squared. Then compare p-values for overall significance to determine which variable does the variance depend on. This table compares all of those p-values. "
   ]
  },
  {
   "cell_type": "code",
   "execution_count": 38,
   "metadata": {
    "vscode": {
     "languageId": "r"
    }
   },
   "outputs": [
    {
     "data": {
      "text/plain": [
       "\n",
       "Call:\n",
       "lm(formula = (resid2^2) ~ BR)\n",
       "\n",
       "Residuals:\n",
       "     Min       1Q   Median       3Q      Max \n",
       "-0.07040 -0.05391 -0.04085  0.01746  0.35401 \n",
       "\n",
       "Coefficients:\n",
       "            Estimate Std. Error t value Pr(>|t|)  \n",
       "(Intercept) 0.043898   0.020142   2.179   0.0305 *\n",
       "BR          0.006716   0.008129   0.826   0.4097  \n",
       "---\n",
       "Signif. codes:  0 '***' 0.001 '**' 0.01 '*' 0.05 '.' 0.1 ' ' 1\n",
       "\n",
       "Residual standard error: 0.08682 on 198 degrees of freedom\n",
       "Multiple R-squared:  0.003436,\tAdjusted R-squared:  -0.001597 \n",
       "F-statistic: 0.6827 on 1 and 198 DF,  p-value: 0.4097\n"
      ]
     },
     "metadata": {},
     "output_type": "display_data"
    }
   ],
   "source": [
    "#not\n",
    "aux1 <- lm((resid2^2) ~ BR)\n",
    "summary(aux1)"
   ]
  },
  {
   "cell_type": "code",
   "execution_count": 39,
   "metadata": {
    "vscode": {
     "languageId": "r"
    }
   },
   "outputs": [
    {
     "data": {
      "text/plain": [
       "\n",
       "Call:\n",
       "lm(formula = (resid2^2) ~ BR^2)\n",
       "\n",
       "Residuals:\n",
       "     Min       1Q   Median       3Q      Max \n",
       "-0.07040 -0.05391 -0.04085  0.01746  0.35401 \n",
       "\n",
       "Coefficients:\n",
       "            Estimate Std. Error t value Pr(>|t|)  \n",
       "(Intercept) 0.043898   0.020142   2.179   0.0305 *\n",
       "BR          0.006716   0.008129   0.826   0.4097  \n",
       "---\n",
       "Signif. codes:  0 '***' 0.001 '**' 0.01 '*' 0.05 '.' 0.1 ' ' 1\n",
       "\n",
       "Residual standard error: 0.08682 on 198 degrees of freedom\n",
       "Multiple R-squared:  0.003436,\tAdjusted R-squared:  -0.001597 \n",
       "F-statistic: 0.6827 on 1 and 198 DF,  p-value: 0.4097\n"
      ]
     },
     "metadata": {},
     "output_type": "display_data"
    }
   ],
   "source": [
    "#not\n",
    "aux2 <- (lm((resid2^2) ~ BR^2))\n",
    "summary(aux2)"
   ]
  },
  {
   "cell_type": "code",
   "execution_count": 40,
   "metadata": {
    "vscode": {
     "languageId": "r"
    }
   },
   "outputs": [
    {
     "data": {
      "text/plain": [
       "\n",
       "Call:\n",
       "lm(formula = (resid2^2) ~ Area)\n",
       "\n",
       "Residuals:\n",
       "     Min       1Q   Median       3Q      Max \n",
       "-0.08342 -0.05134 -0.03773  0.01760  0.35518 \n",
       "\n",
       "Coefficients:\n",
       "             Estimate Std. Error t value Pr(>|t|)  \n",
       "(Intercept) 0.0203004  0.0207761   0.977   0.3297  \n",
       "Area        0.0004123  0.0002076   1.986   0.0484 *\n",
       "---\n",
       "Signif. codes:  0 '***' 0.001 '**' 0.01 '*' 0.05 '.' 0.1 ' ' 1\n",
       "\n",
       "Residual standard error: 0.08612 on 198 degrees of freedom\n",
       "Multiple R-squared:  0.01953,\tAdjusted R-squared:  0.01458 \n",
       "F-statistic: 3.944 on 1 and 198 DF,  p-value: 0.04842\n"
      ]
     },
     "metadata": {},
     "output_type": "display_data"
    }
   ],
   "source": [
    "#might be\n",
    "aux3 <- lm((resid2^2) ~ Area)\n",
    "summary(aux3)"
   ]
  },
  {
   "cell_type": "code",
   "execution_count": 41,
   "metadata": {
    "vscode": {
     "languageId": "r"
    }
   },
   "outputs": [
    {
     "data": {
      "text/plain": [
       "\n",
       "Call:\n",
       "lm(formula = (resid2^2) ~ Area^2)\n",
       "\n",
       "Residuals:\n",
       "     Min       1Q   Median       3Q      Max \n",
       "-0.08342 -0.05134 -0.03773  0.01760  0.35518 \n",
       "\n",
       "Coefficients:\n",
       "             Estimate Std. Error t value Pr(>|t|)  \n",
       "(Intercept) 0.0203004  0.0207761   0.977   0.3297  \n",
       "Area        0.0004123  0.0002076   1.986   0.0484 *\n",
       "---\n",
       "Signif. codes:  0 '***' 0.001 '**' 0.01 '*' 0.05 '.' 0.1 ' ' 1\n",
       "\n",
       "Residual standard error: 0.08612 on 198 degrees of freedom\n",
       "Multiple R-squared:  0.01953,\tAdjusted R-squared:  0.01458 \n",
       "F-statistic: 3.944 on 1 and 198 DF,  p-value: 0.04842\n"
      ]
     },
     "metadata": {},
     "output_type": "display_data"
    }
   ],
   "source": [
    "#might be\n",
    "aux4 <- lm((resid2^2) ~ Area^2)\n",
    "summary(aux4)"
   ]
  },
  {
   "cell_type": "code",
   "execution_count": 42,
   "metadata": {
    "vscode": {
     "languageId": "r"
    }
   },
   "outputs": [
    {
     "data": {
      "text/plain": [
       "\n",
       "Call:\n",
       "lm(formula = (resid2^2) ~ DistToCenter)\n",
       "\n",
       "Residuals:\n",
       "     Min       1Q   Median       3Q      Max \n",
       "-0.08766 -0.05150 -0.03276  0.02528  0.35852 \n",
       "\n",
       "Coefficients:\n",
       "              Estimate Std. Error t value Pr(>|t|)    \n",
       "(Intercept)   0.110722   0.017811   6.217 2.95e-09 ***\n",
       "DistToCenter -0.006226   0.002048  -3.040  0.00268 ** \n",
       "---\n",
       "Signif. codes:  0 '***' 0.001 '**' 0.01 '*' 0.05 '.' 0.1 ' ' 1\n",
       "\n",
       "Residual standard error: 0.08501 on 198 degrees of freedom\n",
       "Multiple R-squared:  0.0446,\tAdjusted R-squared:  0.03978 \n",
       "F-statistic: 9.243 on 1 and 198 DF,  p-value: 0.002683\n"
      ]
     },
     "metadata": {},
     "output_type": "display_data"
    }
   ],
   "source": [
    "#likely\n",
    "aux5 <- lm((resid2^2) ~ DistToCenter)\n",
    "summary(aux5)"
   ]
  },
  {
   "cell_type": "code",
   "execution_count": 43,
   "metadata": {
    "vscode": {
     "languageId": "r"
    }
   },
   "outputs": [
    {
     "data": {
      "text/plain": [
       "\n",
       "Call:\n",
       "lm(formula = (resid2^2) ~ DistToCenter^2)\n",
       "\n",
       "Residuals:\n",
       "     Min       1Q   Median       3Q      Max \n",
       "-0.08766 -0.05150 -0.03276  0.02528  0.35852 \n",
       "\n",
       "Coefficients:\n",
       "              Estimate Std. Error t value Pr(>|t|)    \n",
       "(Intercept)   0.110722   0.017811   6.217 2.95e-09 ***\n",
       "DistToCenter -0.006226   0.002048  -3.040  0.00268 ** \n",
       "---\n",
       "Signif. codes:  0 '***' 0.001 '**' 0.01 '*' 0.05 '.' 0.1 ' ' 1\n",
       "\n",
       "Residual standard error: 0.08501 on 198 degrees of freedom\n",
       "Multiple R-squared:  0.0446,\tAdjusted R-squared:  0.03978 \n",
       "F-statistic: 9.243 on 1 and 198 DF,  p-value: 0.002683\n"
      ]
     },
     "metadata": {},
     "output_type": "display_data"
    }
   ],
   "source": [
    "#likely\n",
    "aux6 <- lm((resid2^2) ~ DistToCenter^2)\n",
    "summary(aux6)"
   ]
  },
  {
   "attachments": {},
   "cell_type": "markdown",
   "metadata": {},
   "source": [
    "Weight is likely to be related to Area or DistToCenter. <br>\n",
    "#### Summary of models with weights added :"
   ]
  },
  {
   "attachments": {},
   "cell_type": "markdown",
   "metadata": {},
   "source": [
    "#### Model 2.1:"
   ]
  },
  {
   "cell_type": "code",
   "execution_count": 44,
   "metadata": {
    "vscode": {
     "languageId": "r"
    }
   },
   "outputs": [
    {
     "data": {
      "text/plain": [
       "\n",
       "Call:\n",
       "lm(formula = log(Price, base = exp(1)) ~ Area + DistToCenter + \n",
       "    BR + Furni, weights = 1/sqrt(Area))\n",
       "\n",
       "Weighted Residuals:\n",
       "      Min        1Q    Median        3Q       Max \n",
       "-0.221157 -0.047738  0.006519  0.039232  0.190790 \n",
       "\n",
       "Coefficients:\n",
       "              Estimate Std. Error t value Pr(>|t|)    \n",
       "(Intercept)   2.234157   0.081361  27.460  < 2e-16 ***\n",
       "Area          0.005190   0.001191   4.359 2.11e-05 ***\n",
       "DistToCenter -0.029563   0.006080  -4.863 2.38e-06 ***\n",
       "BR            0.092698   0.044474   2.084   0.0384 *  \n",
       "Furni         0.198353   0.035849   5.533 1.00e-07 ***\n",
       "---\n",
       "Signif. codes:  0 '***' 0.001 '**' 0.01 '*' 0.05 '.' 0.1 ' ' 1\n",
       "\n",
       "Residual standard error: 0.07955 on 195 degrees of freedom\n",
       "Multiple R-squared:  0.5365,\tAdjusted R-squared:  0.527 \n",
       "F-statistic: 56.42 on 4 and 195 DF,  p-value: < 2.2e-16\n"
      ]
     },
     "metadata": {},
     "output_type": "display_data"
    },
    {
     "data": {
      "text/html": [
       "16.9814808693853"
      ],
      "text/latex": [
       "16.9814808693853"
      ],
      "text/markdown": [
       "16.9814808693853"
      ],
      "text/plain": [
       "[1] 16.98148"
      ]
     },
     "metadata": {},
     "output_type": "display_data"
    },
    {
     "data": {
      "text/html": [
       "15.3149629102627"
      ],
      "text/latex": [
       "15.3149629102627"
      ],
      "text/markdown": [
       "15.3149629102627"
      ],
      "text/plain": [
       "[1] 15.31496"
      ]
     },
     "metadata": {},
     "output_type": "display_data"
    },
    {
     "data": {
      "text/html": [
       "0.826079899392452"
      ],
      "text/latex": [
       "0.826079899392452"
      ],
      "text/markdown": [
       "0.826079899392452"
      ],
      "text/plain": [
       "[1] 0.8260799"
      ]
     },
     "metadata": {},
     "output_type": "display_data"
    },
    {
     "data": {
      "text/plain": [
       "\n",
       "\tRESET test\n",
       "\n",
       "data:  improve2.1\n",
       "RESET = 2.3412, df1 = 2, df2 = 193, p-value = 0.09894\n"
      ]
     },
     "metadata": {},
     "output_type": "display_data"
    },
    {
     "data": {
      "text/plain": [
       "\n",
       "\tstudentized Breusch-Pagan test\n",
       "\n",
       "data:  improve2.1\n",
       "BP = 6.3161, df = 4, p-value = 0.1768\n"
      ]
     },
     "metadata": {},
     "output_type": "display_data"
    }
   ],
   "source": [
    "improve2.1 <- lm(log(Price, base = exp(1)) ~ Area + DistToCenter + BR + Furni, weights = 1/sqrt(Area))\n",
    "summary(improve2.1)\n",
    "rmse(Price, predict(improve2.1))\n",
    "mae(Price, predict(improve2.1))\n",
    "mape(Price, predict(improve2.1))\n",
    "resettest(improve2.1)\n",
    "bptest(improve2.1)"
   ]
  },
  {
   "attachments": {},
   "cell_type": "markdown",
   "metadata": {},
   "source": [
    "#### Model 2.2:"
   ]
  },
  {
   "cell_type": "code",
   "execution_count": 45,
   "metadata": {
    "vscode": {
     "languageId": "r"
    }
   },
   "outputs": [
    {
     "data": {
      "text/plain": [
       "\n",
       "Call:\n",
       "lm(formula = log(Price, base = exp(1)) ~ Area + DistToCenter + \n",
       "    BR + Furni, weights = 1/(Area))\n",
       "\n",
       "Weighted Residuals:\n",
       "      Min        1Q    Median        3Q       Max \n",
       "-0.078170 -0.014304  0.002246  0.012665  0.062370 \n",
       "\n",
       "Coefficients:\n",
       "              Estimate Std. Error t value Pr(>|t|)    \n",
       "(Intercept)   2.244582   0.078766  28.497  < 2e-16 ***\n",
       "Area          0.005448   0.001247   4.367 2.04e-05 ***\n",
       "DistToCenter -0.028837   0.006009  -4.799 3.16e-06 ***\n",
       "BR            0.077164   0.045204   1.707   0.0894 .  \n",
       "Furni         0.190807   0.035229   5.416 1.78e-07 ***\n",
       "---\n",
       "Signif. codes:  0 '***' 0.001 '**' 0.01 '*' 0.05 '.' 0.1 ' ' 1\n",
       "\n",
       "Residual standard error: 0.02591 on 195 degrees of freedom\n",
       "Multiple R-squared:  0.5214,\tAdjusted R-squared:  0.5116 \n",
       "F-statistic: 53.12 on 4 and 195 DF,  p-value: < 2.2e-16\n"
      ]
     },
     "metadata": {},
     "output_type": "display_data"
    },
    {
     "data": {
      "text/html": [
       "16.9830334991542"
      ],
      "text/latex": [
       "16.9830334991542"
      ],
      "text/markdown": [
       "16.9830334991542"
      ],
      "text/plain": [
       "[1] 16.98303"
      ]
     },
     "metadata": {},
     "output_type": "display_data"
    },
    {
     "data": {
      "text/html": [
       "15.3152098390278"
      ],
      "text/latex": [
       "15.3152098390278"
      ],
      "text/markdown": [
       "15.3152098390278"
      ],
      "text/plain": [
       "[1] 15.31521"
      ]
     },
     "metadata": {},
     "output_type": "display_data"
    },
    {
     "data": {
      "text/html": [
       "0.826018371953192"
      ],
      "text/latex": [
       "0.826018371953192"
      ],
      "text/markdown": [
       "0.826018371953192"
      ],
      "text/plain": [
       "[1] 0.8260184"
      ]
     },
     "metadata": {},
     "output_type": "display_data"
    },
    {
     "data": {
      "text/plain": [
       "\n",
       "\tRESET test\n",
       "\n",
       "data:  improve2.2\n",
       "RESET = 2.3412, df1 = 2, df2 = 193, p-value = 0.09894\n"
      ]
     },
     "metadata": {},
     "output_type": "display_data"
    },
    {
     "data": {
      "text/plain": [
       "\n",
       "\tstudentized Breusch-Pagan test\n",
       "\n",
       "data:  improve2.2\n",
       "BP = 0.71835, df = 4, p-value = 0.949\n"
      ]
     },
     "metadata": {},
     "output_type": "display_data"
    }
   ],
   "source": [
    "improve2.2 <- lm(log(Price, base = exp(1)) ~ Area + DistToCenter + BR + Furni, weights = 1/(Area))\n",
    "summary(improve2.2)\n",
    "rmse(Price, predict(improve2.2))\n",
    "mae(Price, predict(improve2.2))\n",
    "mape(Price, predict(improve2.2))\n",
    "resettest(improve2.2)\n",
    "bptest(improve2.2)"
   ]
  },
  {
   "attachments": {},
   "cell_type": "markdown",
   "metadata": {},
   "source": [
    "#### Model 2.3:"
   ]
  },
  {
   "cell_type": "code",
   "execution_count": 46,
   "metadata": {
    "vscode": {
     "languageId": "r"
    }
   },
   "outputs": [
    {
     "data": {
      "text/plain": [
       "\n",
       "Call:\n",
       "lm(formula = log(Price, base = exp(1)) ~ Area + DistToCenter + \n",
       "    BR + Furni, weights = 1/sqrt(DistToCenter))\n",
       "\n",
       "Weighted Residuals:\n",
       "     Min       1Q   Median       3Q      Max \n",
       "-0.36558 -0.09883  0.00793  0.07308  0.40649 \n",
       "\n",
       "Coefficients:\n",
       "              Estimate Std. Error t value Pr(>|t|)    \n",
       "(Intercept)   2.248405   0.085565  26.277  < 2e-16 ***\n",
       "Area          0.004988   0.001145   4.357 2.13e-05 ***\n",
       "DistToCenter -0.033759   0.006587  -5.125 7.13e-07 ***\n",
       "BR            0.107960   0.044447   2.429    0.016 *  \n",
       "Furni         0.205202   0.037953   5.407 1.86e-07 ***\n",
       "---\n",
       "Signif. codes:  0 '***' 0.001 '**' 0.01 '*' 0.05 '.' 0.1 ' ' 1\n",
       "\n",
       "Residual standard error: 0.1546 on 195 degrees of freedom\n",
       "Multiple R-squared:  0.5459,\tAdjusted R-squared:  0.5366 \n",
       "F-statistic: 58.61 on 4 and 195 DF,  p-value: < 2.2e-16\n"
      ]
     },
     "metadata": {},
     "output_type": "display_data"
    },
    {
     "data": {
      "text/html": [
       "16.9777639840632"
      ],
      "text/latex": [
       "16.9777639840632"
      ],
      "text/markdown": [
       "16.9777639840632"
      ],
      "text/plain": [
       "[1] 16.97776"
      ]
     },
     "metadata": {},
     "output_type": "display_data"
    },
    {
     "data": {
      "text/html": [
       "15.3141910313071"
      ],
      "text/latex": [
       "15.3141910313071"
      ],
      "text/markdown": [
       "15.3141910313071"
      ],
      "text/plain": [
       "[1] 15.31419"
      ]
     },
     "metadata": {},
     "output_type": "display_data"
    },
    {
     "data": {
      "text/html": [
       "0.826187735881188"
      ],
      "text/latex": [
       "0.826187735881188"
      ],
      "text/markdown": [
       "0.826187735881188"
      ],
      "text/plain": [
       "[1] 0.8261877"
      ]
     },
     "metadata": {},
     "output_type": "display_data"
    },
    {
     "data": {
      "text/plain": [
       "\n",
       "\tRESET test\n",
       "\n",
       "data:  improve2.3\n",
       "RESET = 2.3412, df1 = 2, df2 = 193, p-value = 0.09894\n"
      ]
     },
     "metadata": {},
     "output_type": "display_data"
    },
    {
     "data": {
      "text/plain": [
       "\n",
       "\tstudentized Breusch-Pagan test\n",
       "\n",
       "data:  improve2.3\n",
       "BP = 18.115, df = 4, p-value = 0.001172\n"
      ]
     },
     "metadata": {},
     "output_type": "display_data"
    }
   ],
   "source": [
    "improve2.3 <- lm(log(Price, base = exp(1)) ~ Area + DistToCenter + BR + Furni, weights = 1/sqrt(DistToCenter))\n",
    "summary(improve2.3)\n",
    "rmse(Price, predict(improve2.3))\n",
    "mae(Price, predict(improve2.3))\n",
    "mape(Price, predict(improve2.3))\n",
    "resettest(improve2.3)\n",
    "bptest(improve2.3)"
   ]
  },
  {
   "attachments": {},
   "cell_type": "markdown",
   "metadata": {},
   "source": [
    "#### Model 2.4:"
   ]
  },
  {
   "cell_type": "code",
   "execution_count": 47,
   "metadata": {
    "vscode": {
     "languageId": "r"
    }
   },
   "outputs": [
    {
     "data": {
      "text/plain": [
       "\n",
       "Call:\n",
       "lm(formula = log(Price, base = exp(1)) ~ Area + DistToCenter + \n",
       "    BR + Furni, weights = 1/(DistToCenter))\n",
       "\n",
       "Weighted Residuals:\n",
       "      Min        1Q    Median        3Q       Max \n",
       "-0.207652 -0.056575  0.006625  0.042773  0.314097 \n",
       "\n",
       "Coefficients:\n",
       "              Estimate Std. Error t value Pr(>|t|)    \n",
       "(Intercept)   2.270187   0.086772  26.163  < 2e-16 ***\n",
       "Area          0.005218   0.001143   4.565 8.84e-06 ***\n",
       "DistToCenter -0.037467   0.007097  -5.279 3.44e-07 ***\n",
       "BR            0.101738   0.044750   2.273   0.0241 *  \n",
       "Furni         0.205636   0.039424   5.216 4.65e-07 ***\n",
       "---\n",
       "Signif. codes:  0 '***' 0.001 '**' 0.01 '*' 0.05 '.' 0.1 ' ' 1\n",
       "\n",
       "Residual standard error: 0.09818 on 195 degrees of freedom\n",
       "Multiple R-squared:  0.548,\tAdjusted R-squared:  0.5388 \n",
       "F-statistic: 59.11 on 4 and 195 DF,  p-value: < 2.2e-16\n"
      ]
     },
     "metadata": {},
     "output_type": "display_data"
    },
    {
     "data": {
      "text/html": [
       "16.9764851234123"
      ],
      "text/latex": [
       "16.9764851234123"
      ],
      "text/markdown": [
       "16.9764851234123"
      ],
      "text/plain": [
       "[1] 16.97649"
      ]
     },
     "metadata": {},
     "output_type": "display_data"
    },
    {
     "data": {
      "text/html": [
       "15.3152098390279"
      ],
      "text/latex": [
       "15.3152098390279"
      ],
      "text/markdown": [
       "15.3152098390279"
      ],
      "text/plain": [
       "[1] 15.31521"
      ]
     },
     "metadata": {},
     "output_type": "display_data"
    },
    {
     "data": {
      "text/html": [
       "0.826354649471182"
      ],
      "text/latex": [
       "0.826354649471182"
      ],
      "text/markdown": [
       "0.826354649471182"
      ],
      "text/plain": [
       "[1] 0.8263546"
      ]
     },
     "metadata": {},
     "output_type": "display_data"
    },
    {
     "data": {
      "text/plain": [
       "\n",
       "\tRESET test\n",
       "\n",
       "data:  improve2.4\n",
       "RESET = 2.3412, df1 = 2, df2 = 193, p-value = 0.09894\n"
      ]
     },
     "metadata": {},
     "output_type": "display_data"
    },
    {
     "data": {
      "text/plain": [
       "\n",
       "\tstudentized Breusch-Pagan test\n",
       "\n",
       "data:  improve2.4\n",
       "BP = 11.284, df = 4, p-value = 0.02355\n"
      ]
     },
     "metadata": {},
     "output_type": "display_data"
    }
   ],
   "source": [
    "improve2.4 <- lm(log(Price, base = exp(1)) ~ Area + DistToCenter + BR + Furni, weights = 1/(DistToCenter))\n",
    "summary(improve2.4)\n",
    "rmse(Price, predict(improve2.4))\n",
    "mae(Price, predict(improve2.4))\n",
    "mape(Price, predict(improve2.4))\n",
    "resettest(improve2.4)\n",
    "bptest(improve2.4)"
   ]
  },
  {
   "attachments": {},
   "cell_type": "markdown",
   "metadata": {},
   "source": [
    "Model 2.1 is the most suitable as all of its coefficients are significant and it does not have problem with omitted variables or heteroscedasticity.\n"
   ]
  },
  {
   "cell_type": "code",
   "execution_count": 48,
   "metadata": {
    "vscode": {
     "languageId": "r"
    }
   },
   "outputs": [
    {
     "data": {
      "text/plain": [
       "\n",
       "Call:\n",
       "lm(formula = log(Price, base = exp(1)) ~ Area + DistToCenter + \n",
       "    BR + Furni, weights = 1/sqrt(Area))\n",
       "\n",
       "Weighted Residuals:\n",
       "      Min        1Q    Median        3Q       Max \n",
       "-0.221157 -0.047738  0.006519  0.039232  0.190790 \n",
       "\n",
       "Coefficients:\n",
       "              Estimate Std. Error t value Pr(>|t|)    \n",
       "(Intercept)   2.234157   0.081361  27.460  < 2e-16 ***\n",
       "Area          0.005190   0.001191   4.359 2.11e-05 ***\n",
       "DistToCenter -0.029563   0.006080  -4.863 2.38e-06 ***\n",
       "BR            0.092698   0.044474   2.084   0.0384 *  \n",
       "Furni         0.198353   0.035849   5.533 1.00e-07 ***\n",
       "---\n",
       "Signif. codes:  0 '***' 0.001 '**' 0.01 '*' 0.05 '.' 0.1 ' ' 1\n",
       "\n",
       "Residual standard error: 0.07955 on 195 degrees of freedom\n",
       "Multiple R-squared:  0.5365,\tAdjusted R-squared:  0.527 \n",
       "F-statistic: 56.42 on 4 and 195 DF,  p-value: < 2.2e-16\n"
      ]
     },
     "metadata": {},
     "output_type": "display_data"
    }
   ],
   "source": [
    "summary(improve2.1)"
   ]
  },
  {
   "cell_type": "code",
   "execution_count": 53,
   "metadata": {
    "vscode": {
     "languageId": "r"
    }
   },
   "outputs": [
    {
     "data": {
      "image/png": "[encoded data removed]",
      "text/plain": [
       "Plot with title \"\""
      ]
     },
     "metadata": {
      "image/png": {
       "height": 420,
       "width": 420
      }
     },
     "output_type": "display_data"
    }
   ],
   "source": [
    "avPlots(improve2.1)"
   ]
  },
  {
   "attachments": {},
   "cell_type": "markdown",
   "metadata": {},
   "source": [
    "Interpreting model 2.1: keeping all other variables unchanged: \n",
    "<ul>\n",
    "<li>If the apartment has 1 more bedroom, on average the rental price will increase by 9.746%</li>\n",
    "<li>If the apartment is well-furnished, on average the rental price will increase by 21.896%</li>\n",
    "<li>If the apartment total area increases by 1 m2 , on average the rental price will increase by 0.501%</li>\n",
    "<li>If the apartment’s distance to city center increases by 1km, on average the rental price will decrease by 2.955%</li>\n",
    "</ul>"
   ]
  },
  {
   "attachments": {},
   "cell_type": "markdown",
   "metadata": {},
   "source": [
    "Limitations of Model 2.1:\n",
    "<ul>\n",
    "<li>Intercept gives false information: suppose an “apartment” with 0 bedrooms, no furniture, no area, and is at the city centre. This apartment would have an average rental price of 9.33 million VND, which is false as it should have been 0 VND.</li>\n",
    "<li>Model 2.1 shows no error relating to omitted variable, but only at ∝ = 5%. If ∝ was 10% instead, model 2.1 would reject the null hypothesis – indicating that it had error relating to omitted variable. So model 2.1 might still need additional variables or more tuning. Unfortunately, all variables listed were all the readily available specifications of the apartment.</li>\n",
    "</ul>"
   ]
  }
 ],
 "metadata": {
  "kernelspec": {
   "display_name": "R",
   "language": "R",
   "name": "ir"
  },
  "language_info": {
   "codemirror_mode": "r",
   "file_extension": ".r",
   "mimetype": "text/x-r-source",
   "name": "R",
   "pygments_lexer": "r",
   "version": "4.3.0"
  },
  "orig_nbformat": 4
 },
 "nbformat": 4,
 "nbformat_minor": 2
}
